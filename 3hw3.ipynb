{
 "cells": [
  {
   "cell_type": "code",
   "execution_count": 46,
   "metadata": {},
   "outputs": [],
   "source": [
    "import pandas as pd\n",
    "import numpy as np\n",
    "import statsmodels.api as sm\n",
    "import statsmodels.formula.api as smf\n",
    "from sklearn.model_selection import train_test_split\n",
    "from sklearn.metrics import roc_auc_score, roc_curve\n",
    "from scipy.stats import t\n",
    "from scipy.stats import norm\n",
    "import matplotlib.pyplot as plt\n",
    "from scipy import stats\n",
    "import pandas as pd\n",
    "import seaborn as sns\n",
    "import scipy.stats as sts\n",
    "%matplotlib inline\n",
    "from sklearn.metrics import r2_score"
   ]
  },
  {
   "cell_type": "code",
   "execution_count": 47,
   "metadata": {},
   "outputs": [],
   "source": [
    "import os\n",
    "import urllib\n",
    "import shutil\n",
    "\n",
    "def download_file(url, dir_path=\"data\"):\n",
    "    if not os.path.exists(dir_path):\n",
    "        os.makedirs(dir_path)\n",
    "        \n",
    "    file_name = os.path.split(url)[-1]\n",
    "    file_path = os.path.join(dir_path, file_name)\n",
    "    \n",
    "    with urllib.request.urlopen(url) as response, open(file_path, 'wb') as out_file:\n",
    "        shutil.copyfileobj(response, out_file)\n",
    "        \n",
    "    return file_path"
   ]
  },
  {
   "cell_type": "code",
   "execution_count": 48,
   "metadata": {},
   "outputs": [
    {
     "data": {
      "text/html": [
       "<div>\n",
       "<style scoped>\n",
       "    .dataframe tbody tr th:only-of-type {\n",
       "        vertical-align: middle;\n",
       "    }\n",
       "\n",
       "    .dataframe tbody tr th {\n",
       "        vertical-align: top;\n",
       "    }\n",
       "\n",
       "    .dataframe thead th {\n",
       "        text-align: right;\n",
       "    }\n",
       "</style>\n",
       "<table border=\"1\" class=\"dataframe\">\n",
       "  <thead>\n",
       "    <tr style=\"text-align: right;\">\n",
       "      <th></th>\n",
       "      <th>TV</th>\n",
       "      <th>radio</th>\n",
       "      <th>newspaper</th>\n",
       "      <th>sales</th>\n",
       "    </tr>\n",
       "  </thead>\n",
       "  <tbody>\n",
       "    <tr>\n",
       "      <th>0</th>\n",
       "      <td>230.1</td>\n",
       "      <td>37.8</td>\n",
       "      <td>69.2</td>\n",
       "      <td>22.1</td>\n",
       "    </tr>\n",
       "    <tr>\n",
       "      <th>1</th>\n",
       "      <td>44.5</td>\n",
       "      <td>39.3</td>\n",
       "      <td>45.1</td>\n",
       "      <td>10.4</td>\n",
       "    </tr>\n",
       "    <tr>\n",
       "      <th>2</th>\n",
       "      <td>17.2</td>\n",
       "      <td>45.9</td>\n",
       "      <td>69.3</td>\n",
       "      <td>9.3</td>\n",
       "    </tr>\n",
       "    <tr>\n",
       "      <th>3</th>\n",
       "      <td>151.5</td>\n",
       "      <td>41.3</td>\n",
       "      <td>58.5</td>\n",
       "      <td>18.5</td>\n",
       "    </tr>\n",
       "    <tr>\n",
       "      <th>4</th>\n",
       "      <td>180.8</td>\n",
       "      <td>10.8</td>\n",
       "      <td>58.4</td>\n",
       "      <td>12.9</td>\n",
       "    </tr>\n",
       "  </tbody>\n",
       "</table>\n",
       "</div>"
      ],
      "text/plain": [
       "      TV  radio  newspaper  sales\n",
       "0  230.1   37.8       69.2   22.1\n",
       "1   44.5   39.3       45.1   10.4\n",
       "2   17.2   45.9       69.3    9.3\n",
       "3  151.5   41.3       58.5   18.5\n",
       "4  180.8   10.8       58.4   12.9"
      ]
     },
     "execution_count": 48,
     "metadata": {},
     "output_type": "execute_result"
    }
   ],
   "source": [
    "download_file(\"http://www-bcf.usc.edu/~gareth/ISL/Advertising.csv\")\n",
    "adv_df = pd.read_csv('data/Advertising.csv', usecols=[1,2,3,4])\n",
    "adv_df.head()"
   ]
  },
  {
   "cell_type": "code",
   "execution_count": 49,
   "metadata": {},
   "outputs": [],
   "source": [
    "from sklearn.linear_model import LinearRegression\n",
    "import math"
   ]
  },
  {
   "cell_type": "code",
   "execution_count": 50,
   "metadata": {},
   "outputs": [],
   "source": [
    "adv_df['log_tv'] = adv_df.TV.apply(lambda x: math.pow(x, 0.4))"
   ]
  },
  {
   "cell_type": "markdown",
   "metadata": {},
   "source": [
    "55 - 50:50 73 - 70:30 итд"
   ]
  },
  {
   "cell_type": "code",
   "execution_count": 51,
   "metadata": {},
   "outputs": [
    {
     "name": "stdout",
     "output_type": "stream",
     "text": [
      "100\n",
      "140\n",
      "160\n"
     ]
    }
   ],
   "source": [
    "adv_df_train55 = adv_df.sample(frac=0.5, random_state=1)\n",
    "adv_df_test55 = adv_df.loc[~adv_df.index.isin(adv_df_train55.index)]\n",
    "print(len(adv_df_train55))\n",
    "\n",
    "adv_df_train73 = adv_df.sample(frac=0.7, random_state=1)\n",
    "adv_df_test73 = adv_df.loc[~adv_df.index.isin(adv_df_train73.index)]\n",
    "print(len(adv_df_train73))\n",
    "\n",
    "adv_df_train82 = adv_df.sample(frac=0.8, random_state=1)\n",
    "adv_df_test82 = adv_df.loc[~adv_df.index.isin(adv_df_train82.index)]\n",
    "print(len(adv_df_train82))"
   ]
  },
  {
   "cell_type": "code",
   "execution_count": 79,
   "metadata": {},
   "outputs": [
    {
     "name": "stdout",
     "output_type": "stream",
     "text": [
      "R2_50/50 log_tv + radio : 0.9200269701907509\n",
      "R2_70/30 log_tv + radio : 0.9189110392650482\n",
      "R2_80/20 log_tv + radio : 0.9229037344902317\n"
     ]
    }
   ],
   "source": [
    "# sales ~ log_tv + radio\n",
    "train55 = LinearRegression().fit(\n",
    "    adv_df_train55[['log_tv', 'radio']],\n",
    "    adv_df_train55[\"sales\"]\n",
    ")\n",
    "prediction55 = train55.predict(adv_df_test55[['log_tv', 'radio']])\n",
    "\n",
    "train73 = LinearRegression().fit(\n",
    "    adv_df_train73[['log_tv', 'radio']],\n",
    "    adv_df_train73[\"sales\"]\n",
    ")\n",
    "prediction73 = train73.predict(adv_df_test73[['log_tv', 'radio']])\n",
    "\n",
    "\n",
    "train82 = LinearRegression().fit(\n",
    "    adv_df_train82[['log_tv', 'radio']],\n",
    "    adv_df_train82[\"sales\"]\n",
    ")\n",
    "prediction82 = train82.predict(adv_df_test82[['log_tv', 'radio']])\n",
    "\n",
    "\n",
    "test55 = adv_df_test55[\"sales\"]\n",
    "prediction55\n",
    "print(\"R2_50/50 log_tv + radio :\" , r2_score(test55, prediction55))\n",
    "\n",
    "test73 = adv_df_test73[\"sales\"]\n",
    "prediction73\n",
    "print(\"R2_70/30 log_tv + radio :\" ,r2_score(test73, prediction73))\n",
    "\n",
    "\n",
    "test82 = adv_df_test82[\"sales\"]\n",
    "prediction82\n",
    "print(\"R2_80/20 log_tv + radio :\" ,r2_score(test82, prediction82))\n"
   ]
  },
  {
   "cell_type": "code",
   "execution_count": 81,
   "metadata": {},
   "outputs": [
    {
     "name": "stdout",
     "output_type": "stream",
     "text": [
      "R2_50/50 TV + radio : 0.8775479943041073\n",
      "R2_70/30 TV + radio : 0.9044240636092475\n",
      "R2_80/20 TV + radio : 0.9251448108264105\n"
     ]
    }
   ],
   "source": [
    "# sales ~ TV + radio \n",
    "train55 = LinearRegression().fit(\n",
    "    adv_df_train55[['TV', 'radio']],\n",
    "    adv_df_train55[\"sales\"]\n",
    ")\n",
    "prediction55 = train55.predict(adv_df_test55[['TV', 'radio']])\n",
    "\n",
    "train73 = LinearRegression().fit(\n",
    "    adv_df_train73[['TV', 'radio']],\n",
    "    adv_df_train73[\"sales\"]\n",
    ")\n",
    "prediction73 = train73.predict(adv_df_test73[['TV', 'radio']])\n",
    "\n",
    "\n",
    "train82 = LinearRegression().fit(\n",
    "    adv_df_train82[['TV', 'radio']],\n",
    "    adv_df_train82[\"sales\"]\n",
    ")\n",
    "prediction82 = train82.predict(adv_df_test82[['TV', 'radio']])\n",
    "\n",
    "\n",
    "test55 = adv_df_test55[\"sales\"]\n",
    "prediction55\n",
    "print(\"R2_50/50 TV + radio :\" , r2_score(test55, prediction55))\n",
    "\n",
    "test73 = adv_df_test73[\"sales\"]\n",
    "prediction73\n",
    "print(\"R2_70/30 TV + radio :\" ,r2_score(test73, prediction73))\n",
    "\n",
    "\n",
    "test82 = adv_df_test82[\"sales\"]\n",
    "prediction82\n",
    "print(\"R2_80/20 TV + radio :\" ,r2_score(test82, prediction82))\n"
   ]
  },
  {
   "cell_type": "code",
   "execution_count": 83,
   "metadata": {},
   "outputs": [
    {
     "name": "stdout",
     "output_type": "stream",
     "text": [
      "R2_50/50 TV + radio + newspaper : 0.8761452530618374\n",
      "R2_70/30 TV + radio + newspaper : 0.9043186717324565\n",
      "R2_80/20 TV + radio + newspaper : 0.9251239479128109\n"
     ]
    }
   ],
   "source": [
    "# sales ~ TV + radio + newspaper\n",
    "train55 = LinearRegression().fit(\n",
    "    adv_df_train55[['TV', 'radio', \"newspaper\"]],\n",
    "    adv_df_train55[\"sales\"]\n",
    ")\n",
    "prediction55 = train55.predict(adv_df_test55[['TV', 'radio', \"newspaper\"]])\n",
    "\n",
    "train73 = LinearRegression().fit(\n",
    "    adv_df_train73[['TV', 'radio', \"newspaper\"]],\n",
    "    adv_df_train73[\"sales\"]\n",
    ")\n",
    "prediction73 = train73.predict(adv_df_test73[['TV', 'radio', \"newspaper\"]])\n",
    "\n",
    "\n",
    "train82 = LinearRegression().fit(\n",
    "    adv_df_train82[['TV', 'radio', \"newspaper\"]],\n",
    "    adv_df_train82[\"sales\"]\n",
    ")\n",
    "prediction82 = train82.predict(adv_df_test82[['TV', 'radio', \"newspaper\"]])\n",
    "\n",
    "\n",
    "test55 = adv_df_test55[\"sales\"]\n",
    "prediction55\n",
    "print(\"R2_50/50 TV + radio + newspaper :\" , r2_score(test55, prediction55))\n",
    "\n",
    "test73 = adv_df_test73[\"sales\"]\n",
    "prediction73\n",
    "print(\"R2_70/30 TV + radio + newspaper :\" ,r2_score(test73, prediction73))\n",
    "\n",
    "\n",
    "test82 = adv_df_test82[\"sales\"]\n",
    "prediction82\n",
    "print(\"R2_80/20 TV + radio + newspaper :\" ,r2_score(test82, prediction82))\n"
   ]
  }
 ],
 "metadata": {
  "kernelspec": {
   "display_name": "Python 3",
   "language": "python",
   "name": "python3"
  },
  "language_info": {
   "codemirror_mode": {
    "name": "ipython",
    "version": 3
   },
   "file_extension": ".py",
   "mimetype": "text/x-python",
   "name": "python",
   "nbconvert_exporter": "python",
   "pygments_lexer": "ipython3",
   "version": "3.7.1"
  }
 },
 "nbformat": 4,
 "nbformat_minor": 2
}
