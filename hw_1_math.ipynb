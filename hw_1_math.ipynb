{
 "cells": [
  {
   "cell_type": "markdown",
   "metadata": {
    "colab_type": "text",
    "id": "view-in-github"
   },
   "source": [
    "<a href=\"https://colab.research.google.com/github/yustinaivanova/math_netology/blob/master/dz_1.ipynb\" target=\"_parent\"><img src=\"https://colab.research.google.com/assets/colab-badge.svg\" alt=\"Open In Colab\"/></a>"
   ]
  },
  {
   "cell_type": "code",
   "execution_count": 22,
   "metadata": {},
   "outputs": [],
   "source": [
    "import numpy as np\n",
    "import matplotlib.pyplot as plt\n",
    "import pandas as pd\n",
    "%matplotlib inline\n"
   ]
  },
  {
   "cell_type": "markdown",
   "metadata": {
    "colab_type": "text",
    "id": "hTHl3kyDWIGO"
   },
   "source": [
    "# Математики для data science.\n",
    "# Домашнее задание 1."
   ]
  },
  {
   "cell_type": "markdown",
   "metadata": {
    "colab_type": "text",
    "id": "OAJG6826Pnft"
   },
   "source": [
    "**Задание на отображение множеств.**"
   ]
  },
  {
   "cell_type": "markdown",
   "metadata": {
    "colab_type": "text",
    "id": "lHtJSvE3Pt9i"
   },
   "source": [
    "**Задание 1.**"
   ]
  },
  {
   "cell_type": "markdown",
   "metadata": {
    "colab_type": "text",
    "id": "pRTF1ROCPxoR"
   },
   "source": [
    "Написать функцию отображения элементов одного множества в другое. Первое множество - художники, второе множество - картины художников.\n",
    "Множество художников - Серов, Левитан, Репин, Васнецов, Шишкин. \n",
    "Множество картин - \"Утро в сосновом бору\", \"Богатыри\", \"Золотая осень\", \"Девочка с персиками\", \"Запорожцы\", \"Буралки на Волге\", \"Март\", \"Алёнушка\". \n"
   ]
  },
  {
   "cell_type": "code",
   "execution_count": 23,
   "metadata": {},
   "outputs": [
    {
     "name": "stdout",
     "output_type": "stream",
     "text": [
      "['Богатыри', 'Алёнушка']\n"
     ]
    }
   ],
   "source": [
    "def getName(name):\n",
    "    dict_paintors = dict()\n",
    "    dict_paintors['Серов'] = ['Девочка с персиками'],\n",
    "    dict_paintors['Левитан'] = ['Золотая осень', 'Март'],\n",
    "    dict_paintors['Репин'] = ['Запорожцы','Бурлаки на Волге']\n",
    "    dict_paintors['Васнецов'] = ['Богатыри','Алёнушка']\n",
    "    dict_paintors['Шишкин'] = ['Утро в сосновом бору']\n",
    "    print (dict_paintors[name])\n",
    "\n",
    "    \n",
    "getName('Васнецов')"
   ]
  },
  {
   "cell_type": "code",
   "execution_count": null,
   "metadata": {},
   "outputs": [],
   "source": []
  },
  {
   "cell_type": "code",
   "execution_count": null,
   "metadata": {},
   "outputs": [],
   "source": []
  },
  {
   "cell_type": "markdown",
   "metadata": {
    "colab_type": "text",
    "id": "4QwS5m7CWXY3"
   },
   "source": [
    "**Полиномиальные функции.**"
   ]
  },
  {
   "cell_type": "markdown",
   "metadata": {
    "colab_type": "text",
    "id": "thQjcSL7WbIY"
   },
   "source": [
    "**Задание 2**. Найти из следующих функций те, которые являются полиномиальной функцией."
   ]
  },
  {
   "cell_type": "markdown",
   "metadata": {
    "colab_type": "text",
    "id": "GbDQjj-pWjqm"
   },
   "source": [
    "*  $$f(x)=\\frac{1}{2}x^{6}-1\\frac{5}{6}x+\\frac{1}{3}$$\n",
    "*  $$f(x)=\\frac{3x^{6}-11x+2}{6}$$\n",
    "*  $$f(x)=\\frac{3x^{6}-11x+2}{6x}$$\n",
    "*  $$f(x)=x^{5}-3x^{2}+7x^{-2}$$\n",
    "*  $$f(x)=(5x^{2}-2)^3-\\frac{1}{2}x^{3}$$\n",
    "*  $$f(x)=(1+\\sqrt{x})^{3}-5(1+\\sqrt{x})$$\n",
    "*  $$f(x)=\\pi $$\n",
    "\n"
   ]
  },
  {
   "cell_type": "markdown",
   "metadata": {},
   "source": [
    "Все кроме 2-х являются полиномами: \n",
    "    \n",
    "$$f(x)=x^{5}-3x^{2}+7x^{-2}$$ \n",
    "$$f(x)=(1+\\sqrt{x})^{3}-5(1+\\sqrt{x})$$\n",
    "\n",
    "В первом случае имеет место отрицательная степень, а во втором случае - ирациональная степень\n"
   ]
  },
  {
   "cell_type": "code",
   "execution_count": null,
   "metadata": {},
   "outputs": [],
   "source": []
  },
  {
   "cell_type": "code",
   "execution_count": null,
   "metadata": {},
   "outputs": [],
   "source": []
  },
  {
   "cell_type": "markdown",
   "metadata": {
    "colab_type": "text",
    "id": "2SOZDLZQW9vK"
   },
   "source": [
    "**Задание 3**. Раскрыть скобки для следующего полинома $$(2x+1)^{2}(x-1)-x(4x^{2}-1)-x(4x^{2}-1)=ax^3+bx^2+cx+d$$ найти коэффициенты для a, b, c, d.\n",
    "\n",
    "$$-4x^{3}-x-1$$"
   ]
  },
  {
   "cell_type": "markdown",
   "metadata": {},
   "source": [
    "a = -4;\n",
    "b = 0;\n",
    "c = -1; \n",
    "d = -1;"
   ]
  },
  {
   "cell_type": "markdown",
   "metadata": {
    "colab_type": "text",
    "id": "FW0p4xjzIdRZ"
   },
   "source": [
    "Для данного задания полезно использовать следующие формулы сокращенного умножения:\n",
    "![alt text](https://sun9-38.userapi.com/c851232/v851232044/19c5b0/7Yy6qz-MUHA.jpg)"
   ]
  },
  {
   "cell_type": "markdown",
   "metadata": {
    "colab_type": "text",
    "id": "hETFA0bzXYdw"
   },
   "source": [
    "Чему равна степень полинома?"
   ]
  },
  {
   "cell_type": "markdown",
   "metadata": {},
   "source": [
    "3"
   ]
  },
  {
   "cell_type": "markdown",
   "metadata": {
    "colab_type": "text",
    "id": "EH8FFbsvt64f"
   },
   "source": [
    "Нарисовать график для полинома."
   ]
  },
  {
   "cell_type": "code",
   "execution_count": 29,
   "metadata": {
    "colab": {},
    "colab_type": "code",
    "id": "wk89rocGSoYC"
   },
   "outputs": [
    {
     "data": {
      "image/png": "[encoded data removed]",
      "text/plain": [
       "<Figure size 432x288 with 1 Axes>"
      ]
     },
     "metadata": {
      "needs_background": "light"
     },
     "output_type": "display_data"
    }
   ],
   "source": [
    "def func1(x):\n",
    "  # написать функцию\n",
    "  y = -4*pow(x,3) - x - 1\n",
    "  return y\n",
    "    \n",
    "    \n",
    "    \n",
    "# создаем вектор x\n",
    "x1 = np.linspace(-3.0, 3.0, 100)\n",
    "# на основе вектора x строим значения для вектора y\n",
    "y1 = [func1(x1[i]) for i in range(len(x1))]\n",
    "\n",
    "plt.plot(x1, y1)\n",
    "plt.title('График функции')\n",
    "plt.ylabel('y')\n",
    "plt.xlabel('x')\n",
    "\n",
    "plt.show()"
   ]
  },
  {
   "cell_type": "markdown",
   "metadata": {
    "colab_type": "text",
    "id": "YnGld7mvZNUB"
   },
   "source": [
    "**Задание 3**.\n",
    "Для заданных функций найти подходящий график (не все функции имеют график):\n",
    "$\\frac{3}{4}x-1$,  $\\frac{3}{4}x+2$, $2-2x$, $2+2x$, $\\frac{1}{4}(x+1)^{2}-2 $, $\\frac{1}{4}(x-1)^2-2$, $(x-1)(x-3)$, $(x+1)(x+3)$, $2-x^2$, $2-\\frac{1}{4}x^2$"
   ]
  },
  {
   "cell_type": "markdown",
   "metadata": {
    "colab_type": "text",
    "id": "8TCnR4urZX_A"
   },
   "source": [
    "![alt text](https://pp.userapi.com/c855532/v855532908/aadd4/uWjIZGDfw0s.jpg)"
   ]
  },
  {
   "cell_type": "markdown",
   "metadata": {},
   "source": [
    "1 функция - картинка 5 ;\n",
    "3 функция - картинка 1 ;\n",
    "5 функция - картинка 4 ;\n",
    "9 функция - картинка 3 ;\n",
    "\n"
   ]
  },
  {
   "cell_type": "code",
   "execution_count": null,
   "metadata": {},
   "outputs": [],
   "source": []
  },
  {
   "cell_type": "markdown",
   "metadata": {
    "colab_type": "text",
    "id": "v4PsJSrlbGni"
   },
   "source": [
    "**Задание 4.** Найти минимальную степень следующего полинома:\n",
    "\n",
    "![alt text](https://pp.userapi.com/c855532/v855532908/aadcd/PZdPYTQT02A.jpg)"
   ]
  },
  {
   "cell_type": "markdown",
   "metadata": {},
   "source": [
    "Минимальная степерь полинома - 5 так как график пересекает ОХ 5 раз"
   ]
  },
  {
   "cell_type": "markdown",
   "metadata": {
    "colab_type": "text",
    "id": "In-LISkBGJ1u"
   },
   "source": [
    "**Задания повышенного уровня**"
   ]
  },
  {
   "cell_type": "markdown",
   "metadata": {
    "colab_type": "text",
    "id": "FGmhJtvceZO6"
   },
   "source": [
    "Почему следующие функции не являются полиномиальными?\n",
    "$$y=5x^{-2}+1$$\n",
    "$$y=3x^{1/2}+2$$\n",
    "$$y=(5x+1)/(3x)$$"
   ]
  },
  {
   "cell_type": "markdown",
   "metadata": {},
   "source": [
    "1,3 - отрицательные степени ;\n",
    "2 - не рациональное число ;"
   ]
  },
  {
   "cell_type": "markdown",
   "metadata": {
    "colab_type": "text",
    "id": "XyzbTtgEezLl"
   },
   "source": [
    "Найдите наибольшее и наименьшее значение функции $y = x^3 + 2x^2 + x + 3 $ на отрезке [-4;-1]. "
   ]
  },
  {
   "cell_type": "code",
   "execution_count": 46,
   "metadata": {},
   "outputs": [
    {
     "name": "stdout",
     "output_type": "stream",
     "text": [
      "x значение, при котором x минимально:  -4.0\n",
      "минимальное значение функции:  -33.0\n",
      "x значение, при котором x масимально:  -1.0\n",
      "максимальное значение функции:  3.0\n"
     ]
    }
   ],
   "source": [
    "x = np.linspace(-4,-1,100)\n",
    "y = [x[i]**3+2*x[i]**2+x[i]+3 for i in range(len(x))]\n",
    "min_x = np.argmin(y)\n",
    "print('x значение, при котором x минимально: ', x[min_x])\n",
    "print('минимальное значение функции: ', y[min_x])\n",
    "max_x = np.argmax(y)\n",
    "print('x значение, при котором x масимально: ', x[max_x])\n",
    "print('максимальное значение функции: ', y[max_x])\n"
   ]
  },
  {
   "cell_type": "code",
   "execution_count": null,
   "metadata": {},
   "outputs": [],
   "source": []
  },
  {
   "cell_type": "markdown",
   "metadata": {
    "colab_type": "text",
    "id": "zZwKoyIwf4SV"
   },
   "source": [
    "Пример линейной регрессии - это применение полиномов на практике. В следующем примере дан датасет x, y, сгенерированный рандомно. Мы можем использовать линейную регрессию, чтобы предсказать значение переменной y от x. "
   ]
  },
  {
   "cell_type": "code",
   "execution_count": 47,
   "metadata": {
    "colab": {
     "base_uri": "https://localhost:8080/",
     "height": 269
    },
    "colab_type": "code",
    "id": "wyWYYrGnWHVk",
    "outputId": "85df8263-3022-4a15-8a64-204ec3ec56a6"
   },
   "outputs": [
    {
     "data": {
      "image/png": "[encoded data removed]",
      "text/plain": [
       "<Figure size 432x288 with 1 Axes>"
      ]
     },
     "metadata": {
      "needs_background": "light"
     },
     "output_type": "display_data"
    }
   ],
   "source": [
    "import numpy as np\n",
    "import matplotlib.pyplot as plt\n",
    "\n",
    "from sklearn.linear_model import LinearRegression\n",
    "\n",
    "np.random.seed(0)\n",
    "x = 2 - 3 * np.random.normal(0, 1, 20)\n",
    "y = x - 2 * (x ** 2) + 0.5 * (x ** 3) + np.random.normal(-3, 3, 20)\n",
    "\n",
    "# transforming the data to include another axis\n",
    "x = x[:, np.newaxis]\n",
    "y = y[:, np.newaxis]\n",
    "\n",
    "model = LinearRegression()\n",
    "model.fit(x, y)\n",
    "y_pred = model.predict(x)\n",
    "\n",
    "plt.scatter(x, y, s=10)\n",
    "plt.plot(x, y_pred, color='r')\n",
    "plt.show()"
   ]
  },
  {
   "cell_type": "markdown",
   "metadata": {
    "colab_type": "text",
    "id": "_jdDSF1KhGCA"
   },
   "source": [
    "В данном примере найден полином первой степени. Как можно улучшить данную модель? Написать пример. "
   ]
  },
  {
   "cell_type": "markdown",
   "metadata": {},
   "source": [
    "Данную модель можно попробовать улчучшить с помощью полиномов"
   ]
  },
  {
   "cell_type": "code",
   "execution_count": 53,
   "metadata": {},
   "outputs": [
    {
     "data": {
      "image/png": "[encoded data removed]",
      "text/plain": [
       "<Figure size 432x288 with 1 Axes>"
      ]
     },
     "metadata": {
      "needs_background": "light"
     },
     "output_type": "display_data"
    }
   ],
   "source": [
    "from sklearn.preprocessing import PolynomialFeatures \n",
    "  \n",
    "poly = PolynomialFeatures(degree = 3) \n",
    "X_poly = poly.fit_transform(x) \n",
    "  \n",
    "poly.fit(X_poly, y) \n",
    "lin2 = LinearRegression()\n",
    "model = lin2.fit(X_poly, y) \n",
    "\n",
    "y_pred = model.predict(poly.fit_transform(x))\n",
    "plt.scatter(x, y, marker='o')\n",
    "plt.scatter(x, y_pred, marker='x')\n",
    "plt.title('With Polinom')\n",
    "plt.legend(['исходные данные', 'полином 3ой степени'])\n",
    "plt.show()"
   ]
  },
  {
   "cell_type": "markdown",
   "metadata": {},
   "source": [
    "3яя степень полинома отлично обрисовывает картину. Но если есть риск переобучения - можно вернуться ко 2-ой степени"
   ]
  },
  {
   "cell_type": "code",
   "execution_count": null,
   "metadata": {},
   "outputs": [],
   "source": []
  }
 ],
 "metadata": {
  "colab": {
   "include_colab_link": true,
   "name": "Untitled2.ipynb",
   "provenance": [],
   "version": "0.3.2"
  },
  "kernelspec": {
   "display_name": "Python 3",
   "language": "python",
   "name": "python3"
  },
  "language_info": {
   "codemirror_mode": {
    "name": "ipython",
    "version": 3
   },
   "file_extension": ".py",
   "mimetype": "text/x-python",
   "name": "python",
   "nbconvert_exporter": "python",
   "pygments_lexer": "ipython3",
   "version": "3.7.3"
  }
 },
 "nbformat": 4,
 "nbformat_minor": 1
}
